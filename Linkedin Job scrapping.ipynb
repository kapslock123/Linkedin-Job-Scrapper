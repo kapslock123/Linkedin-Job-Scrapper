{
 "cells": [
  {
   "cell_type": "code",
   "execution_count": 159,
   "id": "95a9d9c5",
   "metadata": {
    "scrolled": true
   },
   "outputs": [
    {
     "name": "stdout",
     "output_type": "stream",
     "text": [
      "Requirement already satisfied: selenium in c:\\users\\lenovo\\anaconda3\\lib\\site-packages (4.1.3)\n",
      "Requirement already satisfied: urllib3[secure,socks]~=1.26 in c:\\users\\lenovo\\anaconda3\\lib\\site-packages (from selenium) (1.26.4)\n",
      "Requirement already satisfied: trio-websocket~=0.9 in c:\\users\\lenovo\\anaconda3\\lib\\site-packages (from selenium) (0.9.2)\n",
      "Requirement already satisfied: trio~=0.17 in c:\\users\\lenovo\\anaconda3\\lib\\site-packages (from selenium) (0.20.0)\n",
      "Requirement already satisfied: cffi>=1.14 in c:\\users\\lenovo\\anaconda3\\lib\\site-packages (from trio~=0.17->selenium) (1.14.5)\n",
      "Requirement already satisfied: outcome in c:\\users\\lenovo\\anaconda3\\lib\\site-packages (from trio~=0.17->selenium) (1.1.0)\n",
      "Requirement already satisfied: sortedcontainers in c:\\users\\lenovo\\anaconda3\\lib\\site-packages (from trio~=0.17->selenium) (2.3.0)\n",
      "Requirement already satisfied: attrs>=19.2.0 in c:\\users\\lenovo\\anaconda3\\lib\\site-packages (from trio~=0.17->selenium) (20.3.0)\n",
      "Requirement already satisfied: idna in c:\\users\\lenovo\\anaconda3\\lib\\site-packages (from trio~=0.17->selenium) (2.10)\n",
      "Requirement already satisfied: async-generator>=1.9 in c:\\users\\lenovo\\anaconda3\\lib\\site-packages (from trio~=0.17->selenium) (1.10)\n",
      "Requirement already satisfied: sniffio in c:\\users\\lenovo\\anaconda3\\lib\\site-packages (from trio~=0.17->selenium) (1.2.0)\n",
      "Requirement already satisfied: pycparser in c:\\users\\lenovo\\anaconda3\\lib\\site-packages (from cffi>=1.14->trio~=0.17->selenium) (2.20)\n",
      "Requirement already satisfied: wsproto>=0.14 in c:\\users\\lenovo\\anaconda3\\lib\\site-packages (from trio-websocket~=0.9->selenium) (1.1.0)\n",
      "Requirement already satisfied: cryptography>=1.3.4 in c:\\users\\lenovo\\anaconda3\\lib\\site-packages (from urllib3[secure,socks]~=1.26->selenium) (3.4.7)\n",
      "Requirement already satisfied: certifi in c:\\users\\lenovo\\anaconda3\\lib\\site-packages (from urllib3[secure,socks]~=1.26->selenium) (2020.12.5)\n",
      "Requirement already satisfied: pyOpenSSL>=0.14 in c:\\users\\lenovo\\anaconda3\\lib\\site-packages (from urllib3[secure,socks]~=1.26->selenium) (20.0.1)\n",
      "Requirement already satisfied: PySocks!=1.5.7,<2.0,>=1.5.6 in c:\\users\\lenovo\\anaconda3\\lib\\site-packages (from urllib3[secure,socks]~=1.26->selenium) (1.7.1)\n",
      "Requirement already satisfied: six>=1.5.2 in c:\\users\\lenovo\\anaconda3\\lib\\site-packages (from pyOpenSSL>=0.14->urllib3[secure,socks]~=1.26->selenium) (1.15.0)\n",
      "Requirement already satisfied: h11<1,>=0.9.0 in c:\\users\\lenovo\\anaconda3\\lib\\site-packages (from wsproto>=0.14->trio-websocket~=0.9->selenium) (0.13.0)\n"
     ]
    }
   ],
   "source": [
    "!pip install selenium"
   ]
  },
  {
   "cell_type": "code",
   "execution_count": 183,
   "id": "5f8d7401",
   "metadata": {},
   "outputs": [],
   "source": [
    "from selenium import webdriver\n",
    "from selenium.webdriver.common.by import By\n",
    "from selenium.webdriver.common.keys import Keys\n",
    "import time\n",
    "import pandas as pd"
   ]
  },
  {
   "cell_type": "code",
   "execution_count": 184,
   "id": "5992be5a",
   "metadata": {},
   "outputs": [],
   "source": [
    "url = 'https://www.linkedin.com/jobs/'"
   ]
  },
  {
   "cell_type": "code",
   "execution_count": 185,
   "id": "843c57be",
   "metadata": {},
   "outputs": [
    {
     "name": "stderr",
     "output_type": "stream",
     "text": [
      "<ipython-input-185-9e63ebe7fb6a>:1: DeprecationWarning: executable_path has been deprecated, please pass in a Service object\n",
      "  wd = webdriver.Chrome('./chromedriver.exe')\n"
     ]
    }
   ],
   "source": [
    "wd = webdriver.Chrome('./chromedriver.exe')"
   ]
  },
  {
   "cell_type": "code",
   "execution_count": 186,
   "id": "baaf1c25",
   "metadata": {},
   "outputs": [],
   "source": [
    "wd.get(url)"
   ]
  },
  {
   "cell_type": "code",
   "execution_count": 187,
   "id": "6e6b6864",
   "metadata": {},
   "outputs": [
    {
     "name": "stderr",
     "output_type": "stream",
     "text": [
      "<ipython-input-187-76a087b8b199>:1: DeprecationWarning: find_element_by_xpath is deprecated. Please use find_element(by=By.XPATH, value=xpath) instead\n",
      "  click=wd.find_element_by_xpath('//*[@id=\"artdeco-global-alert-container\"]/div/section/div/div[2]/button[1]')\n"
     ]
    }
   ],
   "source": [
    "click=wd.find_element_by_xpath('//*[@id=\"artdeco-global-alert-container\"]/div/section/div/div[2]/button[1]')"
   ]
  },
  {
   "cell_type": "code",
   "execution_count": 188,
   "id": "cf785304",
   "metadata": {},
   "outputs": [],
   "source": [
    "click.click()"
   ]
  },
  {
   "cell_type": "code",
   "execution_count": 189,
   "id": "40abdc5a",
   "metadata": {},
   "outputs": [
    {
     "name": "stderr",
     "output_type": "stream",
     "text": [
      "<ipython-input-189-323cbadf4573>:1: DeprecationWarning: find_element_by_xpath is deprecated. Please use find_element(by=By.XPATH, value=xpath) instead\n",
      "  txtInput = wd.find_element_by_xpath('//*[@id=\"JOBS\"]/section[2]/input')\n"
     ]
    }
   ],
   "source": [
    "txtInput = wd.find_element_by_xpath('//*[@id=\"JOBS\"]/section[2]/input')"
   ]
  },
  {
   "cell_type": "code",
   "execution_count": 190,
   "id": "b6eb36a9",
   "metadata": {},
   "outputs": [],
   "source": [
    "txtInput.clear()"
   ]
  },
  {
   "cell_type": "code",
   "execution_count": 191,
   "id": "807a271a",
   "metadata": {},
   "outputs": [],
   "source": [
    "Location = ['London, England, United Kingdom']"
   ]
  },
  {
   "cell_type": "code",
   "execution_count": 192,
   "id": "3dadf86f",
   "metadata": {},
   "outputs": [],
   "source": [
    "txtInput.send_keys(Location[0])"
   ]
  },
  {
   "cell_type": "code",
   "execution_count": 193,
   "id": "adac0b87",
   "metadata": {},
   "outputs": [
    {
     "name": "stderr",
     "output_type": "stream",
     "text": [
      "<ipython-input-193-22c20b95edd4>:1: DeprecationWarning: find_element_by_xpath is deprecated. Please use find_element(by=By.XPATH, value=xpath) instead\n",
      "  txtInput = wd.find_element_by_xpath('//*[@id=\"JOBS\"]/section[1]/input')\n"
     ]
    }
   ],
   "source": [
    "txtInput = wd.find_element_by_xpath('//*[@id=\"JOBS\"]/section[1]/input')"
   ]
  },
  {
   "cell_type": "code",
   "execution_count": 194,
   "id": "4a2bfbfa",
   "metadata": {},
   "outputs": [],
   "source": [
    "txtInput.clear()\n",
    "txtInput.send_keys('Cyber Security')"
   ]
  },
  {
   "cell_type": "code",
   "execution_count": 195,
   "id": "92e9830d",
   "metadata": {},
   "outputs": [],
   "source": [
    "txtInput.send_keys(Keys.RETURN)"
   ]
  },
  {
   "cell_type": "code",
   "execution_count": 196,
   "id": "ccce3fc5",
   "metadata": {
    "scrolled": true
   },
   "outputs": [
    {
     "name": "stderr",
     "output_type": "stream",
     "text": [
      "<ipython-input-196-cae15417404a>:1: DeprecationWarning: find_element_by_xpath is deprecated. Please use find_element(by=By.XPATH, value=xpath) instead\n",
      "  click = wd.find_element_by_xpath('/html/body/div[3]/button')\n"
     ]
    }
   ],
   "source": [
    "click = wd.find_element_by_xpath('/html/body/div[3]/button')\n",
    "click.click()"
   ]
  },
  {
   "cell_type": "code",
   "execution_count": 197,
   "id": "a411f0fa",
   "metadata": {},
   "outputs": [
    {
     "name": "stderr",
     "output_type": "stream",
     "text": [
      "<ipython-input-197-f63f3aacf424>:1: DeprecationWarning: find_element_by_css_selector is deprecated. Please use find_element(by=By.CSS_SELECTOR, value=css_selector) instead\n",
      "  no_of_jobs = int(wd.find_element_by_css_selector('h1>span').get_attribute('innerText'))\n"
     ]
    }
   ],
   "source": [
    "no_of_jobs = int(wd.find_element_by_css_selector('h1>span').get_attribute('innerText'))"
   ]
  },
  {
   "cell_type": "code",
   "execution_count": 173,
   "id": "4fff7cf9",
   "metadata": {},
   "outputs": [],
   "source": [
    "from random import uniform"
   ]
  },
  {
   "cell_type": "code",
   "execution_count": 198,
   "id": "8a046285",
   "metadata": {},
   "outputs": [
    {
     "name": "stderr",
     "output_type": "stream",
     "text": [
      "<ipython-input-198-c6d0b67b3bc4>:4: DeprecationWarning: find_element_by_class_name is deprecated. Please use find_element(by=By.CLASS_NAME, value=name) instead\n",
      "  job_lists = wd.find_element_by_class_name('jobs-search__results-list')\n",
      "<ipython-input-198-c6d0b67b3bc4>:9: DeprecationWarning: find_element_by_xpath is deprecated. Please use find_element(by=By.XPATH, value=xpath) instead\n",
      "  wd.find_element_by_xpath('//*[@id=\"main-content\"]/section[2]/button').click()\n"
     ]
    },
    {
     "ename": "KeyboardInterrupt",
     "evalue": "",
     "output_type": "error",
     "traceback": [
      "\u001b[1;31m---------------------------------------------------------------------------\u001b[0m",
      "\u001b[1;31mKeyboardInterrupt\u001b[0m                         Traceback (most recent call last)",
      "\u001b[1;32m<ipython-input-198-c6d0b67b3bc4>\u001b[0m in \u001b[0;36m<module>\u001b[1;34m\u001b[0m\n\u001b[0;32m     10\u001b[0m     \u001b[1;32mexcept\u001b[0m\u001b[1;33m:\u001b[0m\u001b[1;33m\u001b[0m\u001b[1;33m\u001b[0m\u001b[0m\n\u001b[0;32m     11\u001b[0m         \u001b[1;32mpass\u001b[0m\u001b[1;33m\u001b[0m\u001b[1;33m\u001b[0m\u001b[0m\n\u001b[1;32m---> 12\u001b[1;33m     \u001b[0mtime\u001b[0m\u001b[1;33m.\u001b[0m\u001b[0msleep\u001b[0m\u001b[1;33m(\u001b[0m\u001b[0muniform\u001b[0m\u001b[1;33m(\u001b[0m\u001b[1;36m1\u001b[0m\u001b[1;33m,\u001b[0m\u001b[1;36m2\u001b[0m\u001b[1;33m)\u001b[0m\u001b[1;33m)\u001b[0m\u001b[1;33m\u001b[0m\u001b[1;33m\u001b[0m\u001b[0m\n\u001b[0m\u001b[0;32m     13\u001b[0m \u001b[1;33m\u001b[0m\u001b[0m\n\u001b[0;32m     14\u001b[0m     \u001b[0mnew_height\u001b[0m \u001b[1;33m=\u001b[0m \u001b[0mwd\u001b[0m\u001b[1;33m.\u001b[0m\u001b[0mexecute_script\u001b[0m\u001b[1;33m(\u001b[0m\u001b[1;34m'return document.body.scrollHeight'\u001b[0m\u001b[1;33m)\u001b[0m\u001b[1;33m\u001b[0m\u001b[1;33m\u001b[0m\u001b[0m\n",
      "\u001b[1;31mKeyboardInterrupt\u001b[0m: "
     ]
    }
   ],
   "source": [
    "prev_height = wd.execute_script('return document.body.scrollHeight')\n",
    "\n",
    "while True:\n",
    "    job_lists = wd.find_element_by_class_name('jobs-search__results-list')\n",
    "    jobs=job_lists.find_elements_by_tag_name('li') # return a list\n",
    "    wd.execute_script('window.scrollTo(0,document.body.scrollHeight);')\n",
    "    \n",
    "    try:\n",
    "        wd.find_element_by_xpath('//*[@id=\"main-content\"]/section[2]/button').click()\n",
    "    except:\n",
    "        pass\n",
    "    time.sleep(uniform(1,2))\n",
    "    \n",
    "    new_height = wd.execute_script('return document.body.scrollHeight')\n",
    "    if new_height == prev_height:\n",
    "        break"
   ]
  },
  {
   "cell_type": "code",
   "execution_count": 199,
   "id": "8017868c",
   "metadata": {},
   "outputs": [
    {
     "data": {
      "text/plain": [
       "495"
      ]
     },
     "execution_count": 199,
     "metadata": {},
     "output_type": "execute_result"
    }
   ],
   "source": [
    "len(jobs)"
   ]
  },
  {
   "cell_type": "code",
   "execution_count": 200,
   "id": "55b5c827",
   "metadata": {},
   "outputs": [],
   "source": [
    "job_id= []\n",
    "job_title = []\n",
    "company_name = []\n",
    "location = []\n",
    "date = []\n",
    "job_link = []\n",
    "for job in jobs:\n",
    " job_id0 = job.get_attribute('data-id')\n",
    " job_id.append(job_id0)\n",
    " \n",
    " job_title0 = job.find_element_by_css_selector('h3').get_attribute('innerText')\n",
    " job_title.append(job_title0)\n",
    " \n",
    " company_name0 = job.find_element_by_css_selector('h4').get_attribute('innerText')\n",
    " company_name.append(company_name0)\n",
    " \n",
    " location0 = job.find_element_by_css_selector('[class=\"job-search-card__location\"]').get_attribute('innerText')\n",
    " location.append(location0)\n",
    " \n",
    " date0 = job.find_element_by_css_selector('div>div>time').get_attribute('datetime')\n",
    " date.append(date0)\n",
    " \n",
    " job_link0 = job.find_element_by_css_selector('a').get_attribute('href')\n",
    " job_link.append(job_link0)"
   ]
  },
  {
   "cell_type": "code",
   "execution_count": 145,
   "id": "1dc493da",
   "metadata": {},
   "outputs": [],
   "source": [
    "from random import uniform"
   ]
  },
  {
   "cell_type": "code",
   "execution_count": 201,
   "id": "83463183",
   "metadata": {},
   "outputs": [],
   "source": [
    "jd = []\n",
    "seniority = []\n",
    "emp_type = []\n",
    "job_func = []\n",
    "industries = []\n",
    "for item in range(len(jobs)):\n",
    " job_func0=[]\n",
    " industries0=[]\n",
    " # clicking job to view job details\n",
    "# /html/body/div[1]/div/main/section[2]/ul\n",
    "# /html/body/div[1]/div/main/section[2]/ul/li[1]\n",
    "# /html/body/div[1]/div/main/section[2]/ul/li[1]\n",
    "# /html/body/div[1]/div/main/section[2]/ul/li[10]\n",
    "#  print(item)\n",
    " try:   \n",
    "     job_click_path = f'/html/body/div[1]/div/main/section[2]/ul/li[{item+1}]'\n",
    "     job_click = job.find_element_by_xpath(job_click_path).click()\n",
    "     time.sleep(uniform(2,3))\n",
    " except:\n",
    "     job_click_path = f'/html/body/div[1]/div/main/section[2]/ul/li[{item+1}]'\n",
    "     job_click = job.find_element_by_xpath(job_click_path).click()\n",
    "     time.sleep(uniform(2,3))\n",
    " try:\n",
    "\n",
    "     jd_path = \"/html/body/div[1]/div/section/div[2]/div/section[1]/div/div/section/div\"\n",
    "     jd0 = job.find_element_by_xpath(jd_path).get_attribute(\"innerText\")\n",
    "     jd.append(jd0)\n",
    " except:\n",
    "    jd.append(\"Null\")\n",
    " try:   \n",
    "     seniority_path = \"/html/body/div[1]/div/section/div[2]/div/section[1]/div/ul/li[1]/span\"\n",
    "     seniority0 = job.find_element_by_xpath(seniority_path).get_attribute(\"innerText\")\n",
    "     seniority.append(seniority0)\n",
    " except:\n",
    "    seniority.append(\"Mid-Senior\")\n",
    " try:\n",
    "     emp_type_path = \"/html/body/div[1]/div/section/div[2]/div/section[1]/div/ul/li[2]/span\"\n",
    "     emp_type0 = job.find_element_by_xpath(emp_type_path).get_attribute(\"innerText\")\n",
    "     emp_type.append(emp_type0)\n",
    " except:\n",
    "    emp_type.append(\"Full-time\")\n",
    " try:\n",
    "\n",
    "     job_func_path = \"/html/body/div[1]/div/section/div[2]/div/section[1]/div/ul/li[3]/span\"\n",
    "     job_func_elements = job.find_elements_by_xpath(job_func_path)\n",
    "     for element in job_func_elements:\n",
    "        job_func0.append(element.get_attribute('innerText'))\n",
    "        job_func_final = ', '.join(job_func0)\n",
    "        job_func.append(job_func_final)\n",
    "        industries_path = '/html/body/div[1]/div/section/div[2]/div/section[1]/div/ul/li[4]/span'\n",
    "        industries_elements = job.find_elements_by_xpath(industries_path)\n",
    "     for element in industries_elements:\n",
    "         industries0.append(element.get_attribute('innerText'))\n",
    "         industries_final = ', '.join(industries0)\n",
    "         industries.append(industries_final)\n",
    " except:\n",
    "        job_func.append(\"Null\")\n",
    "        job_func0.append(\"Null\")\n",
    "        industries0.append(\"Null\")\n",
    "        industries.append(\"Null\")"
   ]
  },
  {
   "cell_type": "code",
   "execution_count": 213,
   "id": "7bc22305",
   "metadata": {},
   "outputs": [
    {
     "data": {
      "text/plain": [
       "495"
      ]
     },
     "execution_count": 213,
     "metadata": {},
     "output_type": "execute_result"
    }
   ],
   "source": [
    "len(job_func)"
   ]
  },
  {
   "cell_type": "code",
   "execution_count": 215,
   "id": "b6e927af",
   "metadata": {},
   "outputs": [],
   "source": [
    "job_data = pd.DataFrame({'ID': job_id[:494],\n",
    "'Date': date[:494],\n",
    "'Company': company_name[:494],\n",
    "'Title': job_title[:494],\n",
    "'Location': location[:494],\n",
    "'Description': jd[:494],\n",
    "'Level': seniority[:494],\n",
    "'Type': emp_type[:494],\n",
    "'Function': job_func[:494],\n",
    "'Industry': industries[:494],\n",
    "'Link': job_link[:494]\n",
    "})\n",
    "# cleaning description column\n",
    "job_data['Description'] = job_data['Description'].str.replace('\\n',' ')\n",
    "job_data.to_excel('LinkedIn Job Data_Data Scientist.xlsx', index = False)"
   ]
  },
  {
   "cell_type": "code",
   "execution_count": 216,
   "id": "1a74be4b",
   "metadata": {},
   "outputs": [],
   "source": [
    "job_data.drop(columns='ID',inplace = True)"
   ]
  },
  {
   "cell_type": "code",
   "execution_count": 217,
   "id": "630e39b5",
   "metadata": {},
   "outputs": [],
   "source": [
    "job_data.to_csv(\"Job-Cyber-Security-GL.csv\")"
   ]
  },
  {
   "cell_type": "code",
   "execution_count": 25,
   "id": "2e85f12d",
   "metadata": {},
   "outputs": [],
   "source": [
    "jd = []\n",
    "seniority = []\n",
    "emp_type = []\n",
    "job_func = []\n",
    "industries = []\n",
    "for item in range(len(jobs)):\n",
    " job_func0=[]\n",
    " industries0=[]\n",
    " # clicking job to view job details\n",
    " try:\n",
    "\n",
    "     job_click_path = '/html/body/div[1]/div/section/div[2]/div/section[1]/div/div/section/button[1]'\n",
    "     job_click = job.find_element_by_xpath(job_click_path).click()\n",
    "     time.sleep(5)\n",
    " except:\n",
    "    pass\n",
    " jd_path = \"/html/body/div[1]/div/section/div[2]/div/section[1]/div/div/section/div\"\n",
    " jd0 = job.find_element_by_xpath(jd_path).get_attribute(\"innerText\")\n",
    " jd.append(jd0)\n",
    " \n",
    " seniority_path = \"/html/body/div[1]/div/section/div[2]/div/section[1]/div/ul/li[1]/span\"\n",
    " seniority0 = job.find_element_by_xpath(seniority_path).get_attribute(\"innerText\")\n",
    " seniority.append(seniority0)\n",
    " \n",
    " emp_type_path = \"/html/body/div[1]/div/section/div[2]/div/section[1]/div/ul/li[2]/span\"\n",
    " emp_type0 = job.find_element_by_xpath(emp_type_path).get_attribute(\"innerText\")\n",
    " emp_type.append(emp_type0)\n",
    " \n",
    " job_func_path = \"/html/body/div[1]/div/section/div[2]/div/section[1]/div/ul/li[3]/span\"\n",
    " job_func_elements = job.find_elements_by_xpath(job_func_path)\n",
    " for element in job_func_elements:\n",
    "    job_func0.append(element.get_attribute('innerText'))\n",
    "    job_func_final = ', '.join(job_func0)\n",
    "    job_func.append(job_func_final)\n",
    "    industries_path = '/html/body/div[1]/div/section/div[2]/div/section[1]/div/ul/li[4]/span'\n",
    "    industries_elements = job.find_elements_by_xpath(industries_path)\n",
    " for element in industries_elements:\n",
    "     industries0.append(element.get_attribute('innerText'))\n",
    "     industries_final = ', '.join(industries0)\n",
    "     industries.append(industries_final)"
   ]
  }
 ],
 "metadata": {
  "kernelspec": {
   "display_name": "Python 3",
   "language": "python",
   "name": "python3"
  },
  "language_info": {
   "codemirror_mode": {
    "name": "ipython",
    "version": 3
   },
   "file_extension": ".py",
   "mimetype": "text/x-python",
   "name": "python",
   "nbconvert_exporter": "python",
   "pygments_lexer": "ipython3",
   "version": "3.8.8"
  }
 },
 "nbformat": 4,
 "nbformat_minor": 5
}
